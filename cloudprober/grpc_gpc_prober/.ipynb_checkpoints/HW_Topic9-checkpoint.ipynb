{
 "cells": [
  {
   "cell_type": "markdown",
   "metadata": {},
   "source": [
    "<font size=\"4\" style=\"color:red;\"> **IMPORTANT: ** When submitting this homework notebook, please modify only the cells that start with:</font>\n",
    "\n",
    "```python\n",
    "# modify this cell\n",
    "```\n",
    "\n",
    "<font style=\"color:red;\"> Do not add any new cells. To test out new code, use the coding **scratchpad** by clicking the triangular icon in the bottom right corner of the screen. (**hotkey:** control-B)  </font>"
   ]
  },
  {
   "cell_type": "markdown",
   "metadata": {},
   "source": [
    "## Triangular Distribution"
   ]
  },
  {
   "cell_type": "markdown",
   "metadata": {},
   "source": [
    "Triangular distribution is defined as follows:\n",
    "\n",
    "$$f_X(x) = \\begin{cases}\n",
    "      0 & \\text{for}\\ x\\leq a \\\\\n",
    "      \\frac{2(x-a)}{(b-a)(c-a)} & \\text{for}\\ a< x\\leq c \\\\\n",
    "      \\frac{2(b-x)}{(b-a)(b-c)} & \\text{for}\\ c< x\\leq b \\\\\n",
    "      0 & \\text{for}\\ x>b \n",
    "    \\end{cases}$$\n",
    "    \n",
    "Here $a<b<c$ are real numbers.\n",
    "\n",
    "In the problems that follow, let $X$ be a triangular random variable with parameters $a$, $b$ and $c$. Assume that $c=0$ for the sake of simplicity."
   ]
  },
  {
   "cell_type": "markdown",
   "metadata": {},
   "source": [
    "### Exercise 1"
   ]
  },
  {
   "cell_type": "markdown",
   "metadata": {},
   "source": [
    "Write a function <code><font color=\"blue\">P_range</font>(a,b,alpha,beta)</code> that takes $a$, $b$, $\\alpha$ and $\\beta$ as inputs and returns $P(\\alpha\\leq X\\leq\\beta)$ as the output.\n",
    "\n",
    "<font  style=\"color:blue\"> **Sample run:**</font>\n",
    "```python\n",
    "print(P_range(-2., 2., -2., 2.))\n",
    "print(P_range(-2., 2., -2., 0.))\n",
    "print(P_range(-2., 2., -2., 1.))\n",
    "print(P_range(-2., 1., -2., 0.))\n",
    "```\n",
    "\n",
    "\n",
    "<font  style=\"color:magenta\"> **Expected output**</font>\n",
    "```\n",
    "1.0\n",
    "0.5\n",
    "0.875\n",
    "0.66666666666666\n",
    "```"
   ]
  },
  {
   "cell_type": "code",
   "execution_count": 1,
   "metadata": {
    "scrolled": true
   },
   "outputs": [
    {
     "ename": "SyntaxError",
     "evalue": "unexpected EOF while parsing (<ipython-input-1-d5239f7baeab>, line 11)",
     "output_type": "error",
     "traceback": [
      "\u001b[0;36m  File \u001b[0;32m\"<ipython-input-1-d5239f7baeab>\"\u001b[0;36m, line \u001b[0;32m11\u001b[0m\n\u001b[0;31m    # modify this cell\u001b[0m\n\u001b[0m                      ^\u001b[0m\n\u001b[0;31mSyntaxError\u001b[0m\u001b[0;31m:\u001b[0m unexpected EOF while parsing\n"
     ]
    }
   ],
   "source": [
    "# modify this cell\n",
    "\n",
    "def P_range(a, b, alpha, beta):\n",
    "    # inputs: four variables of type 'float'\n",
    "    # output: one variable of type 'float'\n",
    "    \n",
    "    ### BEGIN SOLUTION\n",
    "    \n",
    "    ### END SOLUTION\n",
    "\n",
    "# modify this cell"
   ]
  },
  {
   "cell_type": "code",
   "execution_count": null,
   "metadata": {
    "collapsed": true
   },
   "outputs": [],
   "source": [
    "# Check Function\n",
    "\n",
    "assert abs(P_range(-3., 3., -3., 0.) - 0.5) < 10**-5\n",
    "assert abs(P_range(-3., 3., -1., 1.) - 0.555555555556) <10**-5"
   ]
  }
 ],
 "metadata": {
  "kernelspec": {
   "display_name": "Python 3",
   "language": "python",
   "name": "python3"
  },
  "language_info": {
   "codemirror_mode": {
    "name": "ipython",
    "version": 3
   },
   "file_extension": ".py",
   "mimetype": "text/x-python",
   "name": "python",
   "nbconvert_exporter": "python",
   "pygments_lexer": "ipython3",
   "version": "3.6.2"
  },
  "toc": {
   "base_numbering": 1,
   "nav_menu": {
    "height": "48px",
    "width": "252px"
   },
   "number_sections": true,
   "sideBar": true,
   "skip_h1_title": false,
   "title_cell": "Table of Contents",
   "title_sidebar": "Contents",
   "toc_cell": false,
   "toc_position": {},
   "toc_section_display": "block",
   "toc_window_display": false
  },
  "varInspector": {
   "cols": {
    "lenName": 16,
    "lenType": 16,
    "lenVar": 40
   },
   "kernels_config": {
    "python": {
     "delete_cmd_postfix": "",
     "delete_cmd_prefix": "del ",
     "library": "var_list.py",
     "varRefreshCmd": "print(var_dic_list())"
    },
    "r": {
     "delete_cmd_postfix": ") ",
     "delete_cmd_prefix": "rm(",
     "library": "var_list.r",
     "varRefreshCmd": "cat(var_dic_list()) "
    }
   },
   "types_to_exclude": [
    "module",
    "function",
    "builtin_function_or_method",
    "instance",
    "_Feature"
   ],
   "window_display": false
  }
 },
 "nbformat": 4,
 "nbformat_minor": 2
}
